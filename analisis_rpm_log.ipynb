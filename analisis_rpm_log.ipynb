{
 "cells": [
  {
   "cell_type": "markdown",
   "id": "d3cdf718",
   "metadata": {},
   "source": [
    "# Análisis y Gráfico de Datos de RPM\n",
    "\n",
    "Este notebook muestra cómo graficar datos utilizando Matplotlib y NumPy. Puedes adaptar el código para analizar tus logs de RPM reales."
   ]
  },
  {
   "cell_type": "code",
   "execution_count": null,
   "id": "11247b47",
   "metadata": {},
   "outputs": [],
   "source": [
    "import numpy as np\n",
    "import matplotlib.pyplot as plt"
   ]
  },
  {
   "cell_type": "code",
   "execution_count": null,
   "id": "653912ab",
   "metadata": {},
   "outputs": [],
   "source": [
    "# Generar datos de ejemplo: tiempo y RPM\n",
    "np.random.seed(0)\n",
    "tiempo = np.linspace(0, 10, 100)\n",
    "rpm = 800 + 50 * np.sin(2 * np.pi * 0.5 * tiempo) + np.random.normal(0, 10, size=tiempo.shape)\n"
   ]
  },
  {
   "cell_type": "code",
   "execution_count": null,
   "id": "800ef0aa",
   "metadata": {},
   "outputs": [],
   "source": [
    "plt.figure(figsize=(10, 5))\n",
    "plt.plot(tiempo, rpm, label='RPM')\n",
    "plt.xlabel('Tiempo (s)')\n",
    "plt.ylabel('RPM')\n",
    "plt.title('Evolución de las RPM (Ejemplo)')\n",
    "plt.legend()\n",
    "plt.grid(True)\n",
    "plt.show()"
   ]
  },
  {
   "cell_type": "markdown",
   "id": "16cad7d1",
   "metadata": {},
   "source": [
    "## Leer y graficar datos reales de RPM del log del 7 de junio"
   ]
  },
  {
   "cell_type": "code",
   "execution_count": null,
   "id": "24c8c83f",
   "metadata": {},
   "outputs": [],
   "source": [
    "import pandas as pd"
   ]
  },
  {
   "cell_type": "code",
   "execution_count": null,
   "id": "3bbde913",
   "metadata": {},
   "outputs": [],
   "source": [
    "# Leer el log real\n",
    "logfile = 'logs/obd_log_20250607_103128.csv'\n",
    "df = pd.read_csv(logfile)\n",
    "# Filtrar solo las filas de RPM (PID 010C)\n",
    "df_rpm = df[df['PID'] == '010C'].copy()\n",
    "# Convertir el timestamp a datetime\n",
    "if '.' in df_rpm['Timestamp'].iloc[0]:\n",
    "    df_rpm['Timestamp'] = pd.to_datetime(df_rpm['Timestamp'], format='%Y-%m-%d %H:%M:%S.%f')\n",
    "else:\n",
    "    df_rpm['Timestamp'] = pd.to_datetime(df_rpm['Timestamp'])\n",
    "# Asegurar que el valor de RPM es numérico\n",
    "df_rpm['Value'] = pd.to_numeric(df_rpm['Value'], errors='coerce')\n",
    "df_rpm = df_rpm.dropna(subset=['Value'])"
   ]
  },
  {
   "cell_type": "code",
   "execution_count": null,
   "id": "f11cbec1",
   "metadata": {},
   "outputs": [],
   "source": [
    "plt.figure(figsize=(12, 5))\n",
    "plt.plot(df_rpm['Timestamp'], df_rpm['Value'], marker='o', linestyle='-', label='RPM')\n",
    "plt.xlabel('Tiempo')\n",
    "plt.ylabel('RPM')\n",
    "plt.title('Evolución de las RPM (log real 7 de junio)')\n",
    "plt.legend()\n",
    "plt.grid(True)\n",
    "plt.tight_layout()\n",
    "plt.show()"
   ]
  },
  {
   "cell_type": "code",
   "execution_count": null,
   "id": "a6a3e12e",
   "metadata": {},
   "outputs": [],
   "source": [
    "# Calcular frecuencia de muestreo promedio (Hz)\n",
    "df_rpm = df_rpm.sort_values('Timestamp')\n",
    "deltas = df_rpm['Timestamp'].diff().dt.total_seconds().dropna()\n",
    "if not deltas.empty:\n",
    "    freq_media = 1 / deltas.mean()\n",
    "    print(f'Frecuencia de muestreo promedio: {freq_media:.2f} Hz')\n",
    "else:\n",
    "    print('No hay suficientes datos para calcular frecuencia de muestreo.')"
   ]
  }
 ],
 "metadata": {
  "language_info": {
   "name": "python"
  }
 },
 "nbformat": 4,
 "nbformat_minor": 5
}
