{
 "cells": [
  {
   "cell_type": "code",
   "execution_count": null,
   "id": "64185f1c",
   "metadata": {},
   "outputs": [],
   "source": [
    "# Instalar bibliotecas necesarias para gráficos y análisis de datos\n",
    "!pip install matplotlib seaborn pandas --quiet"
   ]
  },
  {
   "cell_type": "code",
   "execution_count": null,
   "id": "a01e64d5",
   "metadata": {},
   "outputs": [],
   "source": [
    "import matplotlib.pyplot as plt\n",
    "import seaborn as sns\n",
    "import pandas as pd\n",
    "import numpy as np\n",
    "\n",
    "# Configuración para mostrar gráficos en el notebook\n",
    "%matplotlib inline\n",
    "sns.set(style=\"darkgrid\")\n",
    "\n",
    "print(\"Bibliotecas importadas correctamente.\")"
   ]
  },
  {
   "cell_type": "code",
   "execution_count": null,
   "id": "711d6c5d",
   "metadata": {},
   "outputs": [],
   "source": [
    "# Crear datos de ejemplo\n",
    "datos = pd.DataFrame({\n",
    "    'x': np.linspace(0, 10, 100),\n",
    "    'y': np.sin(np.linspace(0, 10, 100))\n",
    "})\n",
    "\n",
    "# Graficar usando seaborn\n",
    "plt.figure(figsize=(8,4))\n",
    "sns.lineplot(data=datos, x='x', y='y', marker=\"o\")\n",
    "plt.title(\"Gráfico de prueba: Seno(x)\")\n",
    "plt.xlabel(\"x\")\n",
    "plt.ylabel(\"sin(x)\")\n",
    "plt.show()"
   ]
  },
  {
   "cell_type": "code",
   "execution_count": null,
   "id": "5fbb4c6b",
   "metadata": {},
   "outputs": [],
   "source": [
    "import sys\n",
    "print(f\"Python version: {sys.version}\")\n",
    "import matplotlib\n",
    "print(f\"matplotlib version: {matplotlib.__version__}\")\n",
    "import IPython\n",
    "print(f\"IPython version: {IPython.__version__}\")\n",
    "\n",
    "from IPython.display import display, HTML\n",
    "display(HTML('<b>Si ves esto, el entorno de Jupyter está funcionando correctamente.</b>'))"
   ]
  }
 ],
 "metadata": {
  "language_info": {
   "name": "python"
  }
 },
 "nbformat": 4,
 "nbformat_minor": 5
}
